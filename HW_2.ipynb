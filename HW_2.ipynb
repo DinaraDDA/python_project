{
 "cells": [
  {
   "cell_type": "markdown",
   "metadata": {},
   "source": [
    "### 1. Выберите свой любимый вид спорта и создайте список с именами выдающихся спортсменов. \n",
    "Используйте свой список для вывода утверждений об элементах пример: «Я хотел бы сыграть с Gerrard».\n",
    "\n",
    "Вывод:\n",
    "\n",
    "«Я хотел бы сыграть с Gerrard»\n",
    "\n",
    "«Я хотел бы сыграть с Ronaldo»\n",
    "\n",
    "«Я хотел бы сыграть с Messi»"
   ]
  },
  {
   "cell_type": "code",
   "execution_count": 1,
   "metadata": {},
   "outputs": [
    {
     "data": {
      "text/plain": [
       "['Gerrard', 'Ronaldo', 'Bechkam', 'Messi', 'Owen']"
      ]
     },
     "execution_count": 1,
     "metadata": {},
     "output_type": "execute_result"
    }
   ],
   "source": [
    "sports = ['Gerrard', 'Ronaldo', 'Bechkam', 'Messi', 'Owen']\n",
    "sports"
   ]
  },
  {
   "cell_type": "code",
   "execution_count": 3,
   "metadata": {
    "scrolled": true
   },
   "outputs": [
    {
     "name": "stdout",
     "output_type": "stream",
     "text": [
      "Я бы хотел сыграть с Gerrard\n",
      "Я бы хотел сыграть с Ronaldo\n",
      "Я бы хотел сыграть с Owen\n"
     ]
    }
   ],
   "source": [
    "print(f\"Я бы хотел сыграть с {sports[0]}\")\n",
    "print(f\"Я бы хотел сыграть с {sports[1]}\")\n",
    "print(f\"Я бы хотел сыграть с {sports[-1]}\")"
   ]
  },
  {
   "cell_type": "markdown",
   "metadata": {},
   "source": [
    "### 2. Создайте список гостей, включающий минимум трех людей, которых вам хотелось бы пригласить на обед. \n",
    "Затем используйте этот список для вывода пригласительного сообщения каждому участнику используя f’формат.\n",
    "\n",
    "Вывод:\n",
    "\n",
    "«Приглашаю тебя, Кайрат, на обед»\n",
    "\n",
    "«Приглашаю тебя, Айжан, на обед»\n",
    "\n",
    "«Приглашаю тебя, Айдын, на обед»\n",
    "\n"
   ]
  },
  {
   "cell_type": "code",
   "execution_count": 6,
   "metadata": {},
   "outputs": [
    {
     "name": "stdout",
     "output_type": "stream",
     "text": [
      "Приглашаю тебя, Laura, на обед!\n",
      "Приглашаю тебя, Gulnara, на обед!\n",
      "Приглашаю тебя, Zhanar, на обед!\n"
     ]
    }
   ],
   "source": [
    "guests = ['Laura', 'Gulnara', 'Zhanar']\n",
    "print(f\"Приглашаю тебя, {guests[0]}, на обед!\")\n",
    "print(f\"Приглашаю тебя, {guests[1]}, на обед!\")\n",
    "print(f\"Приглашаю тебя, {guests[2]}, на обед!\")"
   ]
  },
  {
   "cell_type": "markdown",
   "metadata": {},
   "source": [
    "### 3. Представим, что вы решили купить обеденный стол большего размера. \n",
    "Дополнительные места позволяют пригласить на обед еще трех гостей. Добавьте в конец программы команду print, которая выводит сообщение о расширении списка гостей.\n",
    "\n",
    "Вывод:\n",
    "\n",
    "«Расширяем список гостей»"
   ]
  },
  {
   "cell_type": "code",
   "execution_count": 12,
   "metadata": {},
   "outputs": [
    {
     "name": "stdout",
     "output_type": "stream",
     "text": [
      "Приглашаю тебя, Laura, на обед!\n",
      "Приглашаю тебя, Gulnara, на обед!\n",
      "Приглашаю тебя, Zhanar, на обед!\n",
      "Расширяем список гостей\n",
      "\n",
      "Обновленный список гостей:\n",
      "\n",
      "['Kamila', 'Laura', 'Gulnara', 'Elmira', 'Zhanar', 'Larisa']\n",
      "\n",
      "Приглашаю тебя, Kamila, на обед!\n",
      "Приглашаю тебя, Laura, на обед!\n",
      "Приглашаю тебя, Gulnara, на обед!\n",
      "Приглашаю тебя, Elmira, на обед!\n",
      "Приглашаю тебя, Zhanar, на обед!\n",
      "Приглашаю тебя, Larisa, на обед!\n"
     ]
    }
   ],
   "source": [
    "guests = ['Laura', 'Gulnara', 'Zhanar']\n",
    "print(f\"Приглашаю тебя, {guests[0]}, на обед!\")\n",
    "print(f\"Приглашаю тебя, {guests[1]}, на обед!\")\n",
    "print(f\"Приглашаю тебя, {guests[2]}, на обед!\")\n",
    "print(\"Расширяем список гостей\")\n",
    "\n",
    "guests.insert(0, \"Kamila\")\n",
    "guests.insert(3, \"Elmira\")\n",
    "guests.append(\"Larisa\")\n",
    "print()\n",
    "print(\"Обновленный список гостей:\\n\")\n",
    "print(guests)\n",
    "print()\n",
    "print(f\"Приглашаю тебя, {guests[0]}, на обед!\")\n",
    "print(f\"Приглашаю тебя, {guests[1]}, на обед!\")\n",
    "print(f\"Приглашаю тебя, {guests[2]}, на обед!\")\n",
    "print(f\"Приглашаю тебя, {guests[3]}, на обед!\")\n",
    "print(f\"Приглашаю тебя, {guests[-2]}, на обед!\")\n",
    "print(f\"Приглашаю тебя, {guests[-1]}, на обед!\")"
   ]
  },
  {
   "cell_type": "markdown",
   "metadata": {},
   "source": [
    "### 4. Выяснилось, \n",
    "что новый обеденный стол привезти вовремя не успеют и места хватит только для двух гостей. Добавьте команду для вывода сообщения о том, что на обед приглашаются всего два гостя.\n",
    "\n",
    "Вывод:\n",
    "\n",
    "«Уменьшаем список гостей»"
   ]
  },
  {
   "cell_type": "code",
   "execution_count": 14,
   "metadata": {},
   "outputs": [
    {
     "name": "stdout",
     "output_type": "stream",
     "text": [
      "Обновленный список гостей:\n",
      "\n",
      "['Kamila', 'Laura', 'Gulnara', 'Elmira', 'Zhanar', 'Larisa']\n",
      "\n",
      "Приглашаю тебя, Kamila, на обед!\n",
      "Приглашаю тебя, Laura, на обед!\n",
      "Приглашаю тебя, Gulnara, на обед!\n",
      "Приглашаю тебя, Elmira, на обед!\n",
      "Приглашаю тебя, Zhanar, на обед!\n",
      "Приглашаю тебя, Larisa, на обед!\n",
      "\n",
      "К сожалению, уменьшаем список гостей!\n",
      "Сожалею об отмене приглашения, Larisa, на обед!\n",
      "Сожалею об отмене приглашения, Zhanar, на обед!\n",
      "Сожалею об отмене приглашения, Elmira, на обед!\n",
      "Сожалею об отмене приглашения, Gulnara, на обед!\n"
     ]
    }
   ],
   "source": [
    "print(\"Обновленный список гостей:\\n\")\n",
    "print(guests)\n",
    "print()\n",
    "print(f\"Приглашаю тебя, {guests[0]}, на обед!\")\n",
    "print(f\"Приглашаю тебя, {guests[1]}, на обед!\")\n",
    "print(f\"Приглашаю тебя, {guests[2]}, на обед!\")\n",
    "print(f\"Приглашаю тебя, {guests[3]}, на обед!\")\n",
    "print(f\"Приглашаю тебя, {guests[-2]}, на обед!\")\n",
    "print(f\"Приглашаю тебя, {guests[-1]}, на обед!\")\n",
    "print()\n",
    "print(\"К сожалению, уменьшаем список гостей!\")\n",
    "guest1 = guests.pop()\n",
    "guest2 = guests.pop()\n",
    "guest3 = guests.pop()\n",
    "guest4 = guests.pop()\n",
    "print(f\"Сожалею об отмене приглашения, {guest1}, на обед!\")\n",
    "print(f\"Сожалею об отмене приглашения, {guest2}, на обед!\")\n",
    "print(f\"Сожалею об отмене приглашения, {guest3}, на обед!\")\n",
    "print(f\"Сожалею об отмене приглашения, {guest4}, на обед!\")"
   ]
  },
  {
   "cell_type": "markdown",
   "metadata": {},
   "source": [
    "### 5. Вспомните хотя бы пять стран, в которых вам хотелось бы побывать.\n",
    "\n",
    "- Сохраните названия стран в списке. Проследите за тем, чтобы список не хранился в алфавитном порядке.\n",
    "\n",
    "- Выведите список в исходном порядке.\n",
    "\n",
    "- Используйте функцию sorted() для вывода списка в алфавитном порядке без изменения списка.\n",
    "\n",
    "- Снова выведите список, чтобы показать, что он по-прежнему хранится в исходном порядке.\n",
    "\n",
    "- Измените порядок элементов вызовом reverse().\n",
    "\n",
    "- Выведите список, чтобы показать, что элементы следуют в другом порядке."
   ]
  },
  {
   "cell_type": "code",
   "execution_count": 22,
   "metadata": {},
   "outputs": [
    {
     "name": "stdout",
     "output_type": "stream",
     "text": [
      "['Turkey', 'France', 'USA', 'Germany', 'Spain']\n"
     ]
    }
   ],
   "source": [
    "countries = [\"Turkey\", \"France\", \"USA\", \"Germany\", \"Spain\"]\n",
    "print(countries)"
   ]
  },
  {
   "cell_type": "code",
   "execution_count": 23,
   "metadata": {},
   "outputs": [
    {
     "name": "stdout",
     "output_type": "stream",
     "text": [
      "Отсортированный список:  ['France', 'Germany', 'Spain', 'Turkey', 'USA']\n",
      "Исходный список:  ['Turkey', 'France', 'USA', 'Germany', 'Spain']\n"
     ]
    }
   ],
   "source": [
    "sorted_c = sorted(countries)\n",
    "print(\"Отсортированный список: \", sorted_c)\n",
    "print(\"Исходный список: \", countries)"
   ]
  },
  {
   "cell_type": "code",
   "execution_count": 27,
   "metadata": {},
   "outputs": [
    {
     "name": "stdout",
     "output_type": "stream",
     "text": [
      "Исходный список:  ['Spain', 'Germany', 'USA', 'France', 'Turkey']\n",
      "['Turkey', 'France', 'USA', 'Germany', 'Spain']\n"
     ]
    }
   ],
   "source": [
    "print(\"Исходный список: \", countries)\n",
    "\n",
    "countries.reverse()\n",
    "print(countries)"
   ]
  },
  {
   "cell_type": "markdown",
   "metadata": {},
   "source": [
    "### 6. Напишите цепочку if-elif-else для определения периода жизни человека. \n",
    "Присвойте значение переменной age, а затем выведите сообщение:\n",
    "\n",
    "- Если значение меньше 2 — Сообщение - младенец.\n",
    "\n",
    "- Если значение больше или равно 2, но меньше 4 — малыш.\n",
    "\n",
    "- Если значение больше или равно 4, но меньше 13 — ребенок.\n",
    "\n",
    "- Если значение больше или равно 13, но меньше 20 — подросток.\n",
    "\n",
    "- Если значение больше или равно 20 — взрослый."
   ]
  },
  {
   "cell_type": "code",
   "execution_count": 39,
   "metadata": {},
   "outputs": [
    {
     "name": "stdout",
     "output_type": "stream",
     "text": [
      "-79\n",
      "Это не человек!\n"
     ]
    }
   ],
   "source": [
    "age = int(input())\n",
    "if age < 0:\n",
    "    print(\"Это не человек!\")\n",
    "else:\n",
    "    if age < 2:\n",
    "        print(\"Младенец\")\n",
    "    elif age >=2 and age < 4:\n",
    "        print(\"Малыш\")\n",
    "    elif age >= 4 and age < 13:\n",
    "        print(\"Ребенок\")\n",
    "    elif age >=13 and age < 20:\n",
    "        print(\"Подросток\")\n",
    "    elif age >=20:\n",
    "        print(\"Взрослый\")\n"
   ]
  },
  {
   "cell_type": "code",
   "execution_count": null,
   "metadata": {},
   "outputs": [],
   "source": []
  }
 ],
 "metadata": {
  "kernelspec": {
   "display_name": "Python 3",
   "language": "python",
   "name": "python3"
  },
  "language_info": {
   "codemirror_mode": {
    "name": "ipython",
    "version": 3
   },
   "file_extension": ".py",
   "mimetype": "text/x-python",
   "name": "python",
   "nbconvert_exporter": "python",
   "pygments_lexer": "ipython3",
   "version": "3.7.6"
  }
 },
 "nbformat": 4,
 "nbformat_minor": 4
}
