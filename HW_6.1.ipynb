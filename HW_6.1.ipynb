{
 "cells": [
  {
   "cell_type": "code",
   "execution_count": 15,
   "metadata": {},
   "outputs": [],
   "source": [
    "# 2.6\n",
    "import restaurant as r"
   ]
  },
  {
   "cell_type": "code",
   "execution_count": 16,
   "metadata": {},
   "outputs": [
    {
     "name": "stdout",
     "output_type": "stream",
     "text": [
      "Название ресторана: Burger King, кухня: Fast Food\n"
     ]
    }
   ],
   "source": [
    "rest_3 = r.Restaurant(\"Burger King\", \"Fast Food\", 3)\n",
    "rest_3.describe_restaurant()"
   ]
  },
  {
   "cell_type": "code",
   "execution_count": 22,
   "metadata": {},
   "outputs": [],
   "source": [
    "# 3.1\n",
    "class User():\n",
    "    def __init__(self, first_name, last_name):\n",
    "        self.f_name = first_name\n",
    "        self.l_name = last_name\n",
    "        \n",
    "    def describe_user(self):\n",
    "        print(f\"Имя: {self.f_name}, Фамилия: {self.l_name}\")\n",
    "        \n",
    "    def greet_user(self):\n",
    "        print(f\"Приветствую Вас, {self.f_name} {self.l_name}\")"
   ]
  },
  {
   "cell_type": "code",
   "execution_count": 26,
   "metadata": {},
   "outputs": [
    {
     "name": "stdout",
     "output_type": "stream",
     "text": [
      "Имя: Mary, Фамилия: Brown\n",
      "Приветствую Вас, Mary Brown\n",
      "\n",
      "Имя: Peter, Фамилия: Jackson\n",
      "Приветствую Вас, Peter Jackson\n",
      "\n",
      "Имя: Dinara, Фамилия: Baimagambetova\n",
      "Приветствую Вас, Dinara Baimagambetova\n"
     ]
    }
   ],
   "source": [
    "user_1 = User(\"Mary\", \"Brown\")\n",
    "\n",
    "user_1.describe_user()\n",
    "user_1.greet_user()\n",
    "\n",
    "print()\n",
    "user_2 = User(\"Peter\", \"Jackson\")\n",
    "\n",
    "user_2.describe_user()\n",
    "user_2.greet_user()\n",
    "\n",
    "print()\n",
    "\n",
    "user_3 = User(\"Dinara\", \"Baimagambetova\")\n",
    "\n",
    "user_3.describe_user()\n",
    "user_3.greet_user()\n"
   ]
  },
  {
   "cell_type": "code",
   "execution_count": 27,
   "metadata": {},
   "outputs": [],
   "source": [
    "# 3.2\n",
    "class User():\n",
    "    def __init__(self, first_name, last_name, login_attempts):\n",
    "        self.f_name = first_name\n",
    "        self.l_name = last_name\n",
    "        self.login = login_attempts\n",
    "        \n",
    "    def describe_user(self):\n",
    "        print(f\"Имя: {self.f_name}, Фамилия: {self.l_name}\")\n",
    "        \n",
    "    def greet_user(self):\n",
    "        print(f\"Приветствую Вас, {self.f_name} {self.l_name}\")\n",
    "        \n",
    "    def increment_login_attempts(self):\n",
    "        self.login += 1\n",
    "        \n",
    "    def reset_login_attempts(self):\n",
    "        self.login = 0"
   ]
  },
  {
   "cell_type": "code",
   "execution_count": 33,
   "metadata": {},
   "outputs": [
    {
     "name": "stdout",
     "output_type": "stream",
     "text": [
      "5\n"
     ]
    }
   ],
   "source": [
    "user4 = User(\"Daniel\", \"Madison\", 4)\n",
    "user4.increment_login_attempts()\n",
    "print(user4.login)"
   ]
  },
  {
   "cell_type": "code",
   "execution_count": 34,
   "metadata": {},
   "outputs": [
    {
     "name": "stdout",
     "output_type": "stream",
     "text": [
      "0\n"
     ]
    }
   ],
   "source": [
    "user4.reset_login_attempts()\n",
    "print(user4.login)"
   ]
  },
  {
   "cell_type": "code",
   "execution_count": 41,
   "metadata": {},
   "outputs": [],
   "source": [
    "# 4.1\n",
    "from random import randint\n",
    "class Die():\n",
    "    def __init__(self, sides):\n",
    "        self.sides = sides\n",
    "    \n",
    "    def roll_die(self):\n",
    "        print(\"Результат броска: \", randint(1, self.sides))  "
   ]
  },
  {
   "cell_type": "code",
   "execution_count": 44,
   "metadata": {},
   "outputs": [
    {
     "name": "stdout",
     "output_type": "stream",
     "text": [
      "Результат броска:  2\n",
      "Результат броска:  6\n",
      "Результат броска:  3\n"
     ]
    }
   ],
   "source": [
    "block = Die(6)\n",
    "block.roll_die()\n",
    "block.roll_die()\n",
    "block.roll_die()"
   ]
  },
  {
   "cell_type": "code",
   "execution_count": 45,
   "metadata": {},
   "outputs": [
    {
     "name": "stdout",
     "output_type": "stream",
     "text": [
      "Результат броска:  1\n",
      "Результат броска:  5\n"
     ]
    }
   ],
   "source": [
    "# 4.2\n",
    "block2 = Die(10)\n",
    "block2.roll_die()\n",
    "block2.roll_die()"
   ]
  },
  {
   "cell_type": "code",
   "execution_count": 46,
   "metadata": {},
   "outputs": [
    {
     "name": "stdout",
     "output_type": "stream",
     "text": [
      "Результат броска:  13\n",
      "Результат броска:  2\n"
     ]
    }
   ],
   "source": [
    "block3 = Die(20)\n",
    "block3.roll_die()\n",
    "block3.roll_die()"
   ]
  },
  {
   "cell_type": "code",
   "execution_count": null,
   "metadata": {},
   "outputs": [],
   "source": []
  }
 ],
 "metadata": {
  "kernelspec": {
   "display_name": "Python 3",
   "language": "python",
   "name": "python3"
  },
  "language_info": {
   "codemirror_mode": {
    "name": "ipython",
    "version": 3
   },
   "file_extension": ".py",
   "mimetype": "text/x-python",
   "name": "python",
   "nbconvert_exporter": "python",
   "pygments_lexer": "ipython3",
   "version": "3.7.6"
  }
 },
 "nbformat": 4,
 "nbformat_minor": 4
}
